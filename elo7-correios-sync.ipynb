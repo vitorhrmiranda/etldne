{
 "cells": [
  {
   "cell_type": "markdown",
   "id": "22ed0172",
   "metadata": {},
   "source": [
    "# Dependencias "
   ]
  },
  {
   "cell_type": "code",
   "execution_count": null,
   "id": "71a24e3e",
   "metadata": {
    "vscode": {
     "languageId": "shellscript"
    }
   },
   "outputs": [],
   "source": [
    "%pip install python-dotenv"
   ]
  },
  {
   "cell_type": "code",
   "execution_count": null,
   "id": "d43a695a",
   "metadata": {
    "vscode": {
     "languageId": "shellscript"
    }
   },
   "outputs": [],
   "source": [
    "from dotenv import load_dotenv\n",
    "import os\n",
    "load_dotenv()\n",
    "\n",
    "DNE_URL = os.getenv('DNE_URL')\n",
    "CORREIOS_SYNC_REPOSITORY = os.getenv('CORREIOS_SYNC_REPOSITORY')\n",
    "MINDB_IMAGE = os.getenv('MINDB_IMAGE')\n",
    "JAVA_IMAGE = os.getenv('JAVA_IMAGE')\n",
    "\n",
    "print(f\"\"\"\n",
    "  DNE_URL: {DNE_URL}\n",
    "  Correios Sync Repository: {CORREIOS_SYNC_REPOSITORY}\n",
    "  MinDB Image: {MINDB_IMAGE}\n",
    "  Java Builder Image: {JAVA_IMAGE}\"\"\"\n",
    ")"
   ]
  },
  {
   "cell_type": "markdown",
   "id": "dcacff35",
   "metadata": {},
   "source": [
    "# Baixando o DNE do repositório dos Correios"
   ]
  },
  {
   "cell_type": "code",
   "execution_count": null,
   "id": "4c18e5bd",
   "metadata": {
    "vscode": {
     "languageId": "shellscript"
    }
   },
   "outputs": [],
   "source": [
    "%%bash -s \"$DNE_URL\"\n",
    "\n",
    "#!/bin/bash\n",
    "\n",
    "rm -rf eDNE_Basico\n",
    "curl -o eDNE_Basico.zip $1\n",
    "unzip eDNE_Basico.zip -d eDNE_Basico\n",
    "unzip eDNE_Basico/eDNE_Basico*.zip -d eDNE_Basico\n",
    "rm eDNE_Basico.zip eDNE_Basico/eDNE*.zip\n",
    "\n",
    "rm -rf converted_files/\n",
    "mkdir converted_files\n",
    "\n",
    "EDNE_BASICO_PATH=./eDNE_Basico/Delimitado\n",
    "iconv -f ISO-8859-1 -t UTF-8 ${EDNE_BASICO_PATH}/LOG_BAIRRO.TXT > ./converted_files/LOG_BAIRRO.TXT\n",
    "iconv -f ISO-8859-1 -t UTF-8 ${EDNE_BASICO_PATH}/LOG_GRANDE_USUARIO.TXT > ./converted_files/LOG_GRANDE_USUARIO.TXT\n",
    "iconv -f ISO-8859-1 -t UTF-8 ${EDNE_BASICO_PATH}/LOG_LOCALIDADE.TXT > ./converted_files/LOG_LOCALIDADE.TXT\n",
    "iconv -f ISO-8859-1 -t UTF-8 ${EDNE_BASICO_PATH}/LOG_UNID_OPER.TXT > ./converted_files/LOG_UNID_OPER.TXT\n",
    "iconv -f ISO-8859-1 -t UTF-8 ${EDNE_BASICO_PATH}/LOG_CPC.TXT > ./converted_files/LOG_CPC.TXT\n",
    "\n",
    "for i in ${EDNE_BASICO_PATH}/LOG_LOGRADOURO_* ; do\n",
    "  filename=$(echo \"$i\" | rev | cut -d / -f 1 | rev)\n",
    "  iconv -f ISO-8859-1 -t UTF-8 \"$i\" > ./converted_files/\"$filename\"\n",
    "done\n",
    "\n",
    "rm -rf eDNE_Basico\n",
    "echo \"Done.\""
   ]
  },
  {
   "cell_type": "markdown",
   "id": "9a583aaa",
   "metadata": {},
   "source": [
    "# Executando o correios sync"
   ]
  },
  {
   "cell_type": "code",
   "execution_count": null,
   "id": "90ea51c2",
   "metadata": {},
   "outputs": [],
   "source": [
    "%%bash -s \"$CORREIOS_SYNC_REPOSITORY\"\n",
    "git clone $1 correios-sync\n",
    "mv converted_files correios-sync"
   ]
  },
  {
   "cell_type": "code",
   "execution_count": null,
   "id": "a625e43f",
   "metadata": {},
   "outputs": [],
   "source": [
    "%%bash -s \"$MINDB_IMAGE\"\n",
    "cd correios-sync\n",
    "\n",
    "cp src/main/resources/nightfall.properties.sample src/main/resources/nightfall.properties\n",
    "\n",
    "mkdir -p sql\n",
    "cat <<EOF > sql/ref_cep_info.sql\n",
    "ALTER TABLE ref_cep_info ADD COLUMN created_at datetime NOT NULL DEFAULT CURRENT_TIMESTAMP;\n",
    "ALTER TABLE ref_cep_info ADD COLUMN updated_at datetime NULL;\n",
    "EOF\n",
    "\n",
    "cat <<EOF > compose.yml\n",
    "services:\n",
    "  mindb:\n",
    "    container_name: mindb\n",
    "    image: $1\n",
    "    ports:\n",
    "      - \"3306:3306\"\n",
    "    volumes:\n",
    "      - ./sql/ref_cep_info.sql:/root/dml/marketplace/init.sql\n",
    "      - elo7_mindb:/var/lib/mysql\n",
    "\n",
    "volumes:\n",
    "  elo7_mindb:\n",
    "\n",
    "networks:\n",
    "  default:\n",
    "    name: development\n",
    "EOF\n",
    "\n",
    "docker compose up -d"
   ]
  },
  {
   "cell_type": "markdown",
   "id": "6ceb0d49",
   "metadata": {},
   "source": [
    "Na sequencia iremos executar a importação no container com spark atraves do comando:"
   ]
  },
  {
   "cell_type": "code",
   "execution_count": null,
   "id": "6d4086f1",
   "metadata": {
    "vscode": {
     "languageId": "shellscript"
    }
   },
   "outputs": [],
   "source": [
    "%%bash -s \"$JAVA_IMAGE\"\n",
    "cd correios-sync\n",
    "\n",
    "docker run --rm -i \\\n",
    "  --network=development \\\n",
    "  -v ${PWD}:/home/correios-sync \\\n",
    "  -w /home/correios-sync \\\n",
    "  --name correios-sync \\\n",
    "  $1 bash -c \"mvn clean compile && mvn scala:run -DmainClass=com.elo7.postalCode.CorreiosApplication\""
   ]
  },
  {
   "cell_type": "markdown",
   "id": "393bfac3",
   "metadata": {},
   "source": [
    "Execução concluida, vamos ver a versão"
   ]
  },
  {
   "cell_type": "code",
   "execution_count": 47,
   "id": "ff2a3d92",
   "metadata": {},
   "outputs": [
    {
     "name": "stdout",
     "output_type": "stream",
     "text": [
      "COUNT(cep)\n",
      "0\n"
     ]
    }
   ],
   "source": [
    "%%bash\n",
    "docker compose -f correios-sync/compose.yml exec mindb \\\n",
    "  mysql -u root elo7 \\\n",
    "  -e \"SELECT COUNT(cep) FROM ref_cep_info WHERE version = 2;\""
   ]
  }
 ],
 "metadata": {
  "kernelspec": {
   "display_name": "Python 3",
   "language": "python",
   "name": "python3"
  },
  "language_info": {
   "codemirror_mode": {
    "name": "ipython",
    "version": 3
   },
   "file_extension": ".py",
   "mimetype": "text/x-python",
   "name": "python",
   "nbconvert_exporter": "python",
   "pygments_lexer": "ipython3",
   "version": "3.13.1"
  }
 },
 "nbformat": 4,
 "nbformat_minor": 5
}
