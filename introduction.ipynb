{
 "cells": [
  {
   "cell_type": "markdown",
   "id": "c6b55f31",
   "metadata": {},
   "source": [
    "<h1 style=\"text-align: center;\"><strong>Recriando o ETL do DNE com DuckDB</strong></h1>\n",
    "<p style=\"text-align: center;\">\n",
    "  <img src=\"data:image/svg+xml;base64,PD94bWwgdmVyc2lvbj0iMS4wIiBlbmNvZGluZz0idXRmLTgiPz4KPCEtLSBHZW5lcmF0b3I6IEFkb2JlIElsbHVzdHJhdG9yIDI0LjMuMiwgU1ZHIEV4cG9ydCBQbHVnLUluIC4gU1ZHIFZlcnNpb246IDYuMDAgQnVpbGQgMCkgIC0tPgo8c3ZnIHZlcnNpb249IjEuMSIgaWQ9IkxheWVyXzEiIHhtbG5zPSJodHRwOi8vd3d3LnczLm9yZy8yMDAwL3N2ZyIgeG1sbnM6eGxpbms9Imh0dHA6Ly93d3cudzMub3JnLzE5OTkveGxpbmsiIHg9IjBweCIgeT0iMHB4IgoJIHZpZXdCb3g9IjAgMCAxMDgwIDEwODAiIHN0eWxlPSJlbmFibGUtYmFja2dyb3VuZDpuZXcgMCAwIDEwODAgMTA4MDsiIHhtbDpzcGFjZT0icHJlc2VydmUiPgo8c3R5bGUgdHlwZT0idGV4dC9jc3MiPgoJLnN0MHtmaWxsOiM0NDAwNDE7fQoJLnN0MXtmaWxsOiNGRkZGRkY7fQo8L3N0eWxlPgo8cmVjdCBjbGFzcz0ic3QwIiB3aWR0aD0iMTA4MCIgaGVpZ2h0PSIxMDgwIi8+CjxnPgoJPHBhdGggY2xhc3M9InN0MSIgZD0iTTU0MCw2ODkuNmMtNDkuNywwLTg2LjItMjEuNS0xMTMuMS02MS42bC04NSw0OS4xYzQxLjksODMuMiwxMjEuNSwxMDguMywxOTguMSwxMDguM1M2OTYuMiw3NjAuMiw3MzguMSw2NzcKCQlsLTg1LTQ5LjFDNjI2LjIsNjY4LjEsNTg5LjcsNjg5LjYsNTQwLDY4OS42eiIvPgoJPHBhdGggY2xhc3M9InN0MSIgZD0iTTU0MCwyOTQuN2MtMTM0LDAtMjI1LDk1LjctMjI1LDIzMi4yYzAsMTUuNiwwLjYsMzEuNywyLjQsNDQuOWg0NDUuMmMxLjgtMTMuMiwyLjQtMjkuMywyLjQtNDQuOQoJCUM3NjUsMzkwLjQsNjc0LDI5NC43LDU0MCwyOTQuN3ogTTU0MCwzOTAuNGM1OC45LDAsMTA0LjYsMjkuNCwxMTAuMSwxMDAuNUg0MjkuOUM0MzUuNCw0MTkuOCw0ODEuMSwzOTAuNCw1NDAsMzkwLjR6Ii8+CjwvZz4KPC9zdmc+Cg==\" width=\"256\" height=\"256\" />\n",
    "</p>\n",
    "<p style=\"text-align: center;\"> Como recriamos o processo de ETL do DNE utilizando DuckDB </p>\n",
    "<p style=\"text-align: center;\"> Descubra as vantagens em <i>desempenho</i>, <i>simplicidade</i> e <i>eficiência</i> dessa abordagem para o processamento de dados.</p>"
   ]
  },
  {
   "cell_type": "markdown",
   "id": "fb6e9b34",
   "metadata": {},
   "source": [
    "---"
   ]
  },
  {
   "cell_type": "markdown",
   "id": "c7ff2fa4",
   "metadata": {},
   "source": [
    "# **Sobre mim**\n",
    "- **Vitor Miranda** (aka Vitim), cientista de computação e tech lead do time tuktuk do Enjoei.\n",
    "<div style=\"text-align: center; margin-top: 30px\">\n",
    "  <img src=\"https://ca.slack-edge.com/T024ZJ51S-U01JAQJ7J73-661b31bf248a-512\" width=\"300px\" style=\"border-radius: 50%; margin-right: 20px;\">\n",
    "  <img src=\"https://avatars.githubusercontent.com/u/76954948?s=400&u=78bde44d1c747a04dda992f8fa2d92a6d171b7d6&v=4\" width=\"300px\" style=\"border-radius: 50%; margin-right: 20px;\">\n",
    "  <img src=\"./assets/github-qrcode.svg\" width=\"300px\" style=\"margin-right: 20px;\">\n",
    "</div>\n"
   ]
  },
  {
   "cell_type": "markdown",
   "id": "19f992c8",
   "metadata": {},
   "source": [
    "----"
   ]
  },
  {
   "cell_type": "markdown",
   "id": "b921e49b",
   "metadata": {},
   "source": [
    "<div style=\"padding: 40px; border-radius: 10px; text-align: center;\">\n",
    "  <h1><strong>O que esperar</strong></h1>\n",
    "  <ul style=\"text-align: left; display: inline-block;\">\n",
    "    <li style=\"font-size: 36px;\">✅ Escopo e implementação do processo de atualização da base de endereços do Enjoei/Elo7.</li>\n",
    "    <li style=\"font-size: 36px;\">✅ Uso do DuckDB como <i>alternativa</i> do Spark.</li>\n",
    "    <li style=\"font-size: 36px;\">✅ Trade-offs do DuckDB</li>\n",
    "    <li style=\"font-size: 36px;\">🚫 Benchmarks e comparações com o spark</li>\n",
    "  </ul>\n",
    "</div>"
   ]
  },
  {
   "cell_type": "markdown",
   "id": "82dd3949",
   "metadata": {},
   "source": [
    "---"
   ]
  },
  {
   "cell_type": "markdown",
   "id": "94fbba66",
   "metadata": {},
   "source": [
    "### O que é o DNE?\n",
    "- Base de dados de endereços do Brasil mantida pelos Correios.\n",
    "- Referência para validação de endereços (CEPs) no Brasil.\n",
    "- Atualizada todo último dia útil de cada quinzena com adições, remoções ou alterações de endereços.\n",
    "\n",
    "### O que é um ETL?\n",
    "- Processo de extração, transformação e carga de dados.\n",
    "- Extraímos os dados do DNE, transformamos para o formato desejado e carregamos no banco de dados.\n",
    "\n",
    "<img src=\"assets/etl.png\" width=\"600px\" />\n",
    "\n",
    "### Por que precisamos atualizar a base de endereços?\n",
    "- Garantir que os endereços dos usuários, especialmente compradores, estão corretos.\n",
    "- Possibilita emissão de etiquetas de envio com endereço válido.\n",
    "\n",
    "<div style=\"display: flex; justify-content: center;\">\n",
    "  <img src=\"assets/der_dne.png\" width=\"300px\" />\n",
    "  <img src=\"https://cdn-icons-png.flaticon.com/512/32/32213.png\" width=\"300px\" />\n",
    "  <img src=\"assets/der_zipcodes.png\" width=\"300px\" />\n",
    "</div>"
   ]
  },
  {
   "cell_type": "markdown",
   "id": "933d442c",
   "metadata": {},
   "source": [
    "# [📬 **Correios Sync** ➡️](./elo7-correios-sync.ipynb)"
   ]
  }
 ],
 "metadata": {
  "kernelspec": {
   "display_name": "Python 3",
   "language": "python",
   "name": "python3"
  },
  "language_info": {
   "codemirror_mode": {
    "name": "ipython",
    "version": 3
   },
   "file_extension": ".py",
   "mimetype": "text/x-python",
   "name": "python",
   "nbconvert_exporter": "python",
   "pygments_lexer": "ipython3",
   "version": "3.13.1"
  }
 },
 "nbformat": 4,
 "nbformat_minor": 5
}
